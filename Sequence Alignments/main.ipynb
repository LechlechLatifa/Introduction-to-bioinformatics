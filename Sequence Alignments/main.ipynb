{
 "cells": [
  {
   "cell_type": "code",
   "execution_count": 1,
   "metadata": {},
   "outputs": [],
   "source": [
    "import os\n",
    "import numpy as np\n",
    "# from SequenceAlignments import Needleman_and_wunsch as nw\n",
    "from Sequence_Alignments import Needleman_and_wunsch"
   ]
  },
  {
   "cell_type": "markdown",
   "metadata": {},
   "source": [
    "# Needleman & Wunsch Algorithm"
   ]
  },
  {
   "cell_type": "code",
   "execution_count": 2,
   "metadata": {},
   "outputs": [
    {
     "name": "stdout",
     "output_type": "stream",
     "text": [
      "{'A': {'A': 1.0, 'C': -2.0, 'G': -2.0, 'T': -2.0}, 'C': {'A': -2.0, 'C': 1.0, 'G': -2.0, 'T': -2.0}, 'G': {'A': -2.0, 'C': -2.0, 'G': 1.0, 'T': -2.0}, 'T': {'A': -2.0, 'C': -2.0, 'G': -2.0, 'T': 1.0}}\n"
     ]
    }
   ],
   "source": [
    "# initialize\n",
    "letters =['A','C','G','T']\n",
    "match_score = 1\n",
    "mismatch_soce = -2\n",
    "gap = -1\n",
    "nw_nucleotides = Needleman_and_wunsch(letters,match_score,mismatch_soce,gap)\n",
    "distance_matrix = nw_nucleotides.distance()\n",
    "print(distance_matrix)"
   ]
  },
  {
   "cell_type": "code",
   "execution_count": 3,
   "metadata": {},
   "outputs": [
    {
     "name": "stdout",
     "output_type": "stream",
     "text": [
      "[[ 0. -1. -2. -3. -4. -5. -6.]\n",
      " [-1. -2. -3. -1. -2. -3. -4.]\n",
      " [-2.  0. -1. -2. -3. -4. -2.]\n",
      " [-3. -1. -2.  0. -1. -2. -3.]\n",
      " [-4. -2. -3. -1.  1.  0. -1.]\n",
      " [-5. -3. -1. -2.  0.  2.  1.]\n",
      " [-6. -4. -2. -3. -1.  1.  0.]\n",
      " [-7. -5. -3. -4. -2.  0. -1.]\n",
      " [-8. -6. -4. -5. -3. -1.  1.]]\n"
     ]
    }
   ],
   "source": [
    "A = ['C','A','T','G','A','C']\n",
    "B = ['T','C','T','G','A','A','A','C']\n",
    "score_matrix = nw_nucleotides.score_matrix(A,B)\n",
    "print(score_matrix)"
   ]
  },
  {
   "cell_type": "code",
   "execution_count": 4,
   "metadata": {},
   "outputs": [
    {
     "name": "stdout",
     "output_type": "stream",
     "text": [
      "Score 1.0\n",
      "A : _CATG__AC\n",
      "A : TC_TGAAAC\n"
     ]
    }
   ],
   "source": [
    "new_A, new_B, score = nw_nucleotides.Needleman_and_wunsch_algo(A,B, distance_matrix, opening_gap= True)\n",
    "print(\"Score\",score)\n",
    "print(\"A :\", new_A)\n",
    "print(\"A :\", new_B)"
   ]
  },
  {
   "cell_type": "code",
   "execution_count": 5,
   "metadata": {},
   "outputs": [
    {
     "name": "stdout",
     "output_type": "stream",
     "text": [
      "Score 1.0\n",
      "A : _CATGA__C\n",
      "A : TC_TGAAAC\n"
     ]
    }
   ],
   "source": [
    "new_A, new_B, score = nw_nucleotides.Needleman_and_wunsch_algo(A,B, distance_matrix, opening_gap= False)\n",
    "print(\"Score\",score)\n",
    "print(\"A :\", new_A)\n",
    "print(\"A :\", new_B)"
   ]
  },
  {
   "cell_type": "code",
   "execution_count": 9,
   "metadata": {},
   "outputs": [],
   "source": [
    "protein_2ABL_sequence = 'MGPSENDPNLFVALYDFVASGDNTLSITKGEKLRVLGYNHNGEWCEAQTKNGQGWVPSNYITPVNSLEKHSWYHGPVSRNAAEYLLSSGINGSFLVRESESSPGQRSISLRYEGRVYHYRINTASDGKLYVSSESRFNTLAELVHHHSTVADGLITTLHYPAP'\n",
    "protein_1OPK_sequence = 'GAMDPSEALQRPVASDFEPQGLSEAARWNSKENLLAGPSENDPNLFVALYDFVASGDNTLSITKGEKLRVLGYNHNGEWCEAQTKNGQGWVPSNYITPVNSLEKHSWYHGPVSRNAAEYLLSSGINGSFLVRESESSPGQRSISLRYEGRVYHYRINTASDGKLYVSSESRFNTLAELVHHHSTVADGLITTLHYPAPKRNKPTIYGVSPNYDKWEMERTDITMKHKLGGGQYGEVYEGVWKKYSLTVAVKTLKEDTMEVEEFLKEAAVMKEIKHPNLVQLLGVCTREPPFYIITEFMTYGNLLDYLRECNRQEVSAVVLLYMATQISSAMEYLEKKNFIHRNLAARNCLVGENHLVKVADFGLSRLMTGDTYTAHAGAKFPIKWTAPESLAYNKFSIKSDVWAFGVLLWEIATYGMSPYPGIDLSQVYELLEKDYRMERPEGCPEKVYELMRACWQWNPSDRPSFAEIHQAFETMFQESSISDEVEKELGKRGT'"
   ]
  },
  {
   "cell_type": "code",
   "execution_count": 12,
   "metadata": {},
   "outputs": [
    {
     "name": "stdout",
     "output_type": "stream",
     "text": [
      "yes\n"
     ]
    }
   ],
   "source": [
    "file_path = \"Distance Matrix/BLOSUM62.txt\"\n",
    "if os.path.exists(file_path):\n",
    "    print('yes')"
   ]
  },
  {
   "cell_type": "code",
   "execution_count": 30,
   "metadata": {},
   "outputs": [
    {
     "name": "stdout",
     "output_type": "stream",
     "text": [
      "['A', 'R', 'N', 'D', 'C', 'Q', 'E', 'G', 'H', 'I', 'L', 'K', 'M', 'F', 'P', 'S', 'T', 'W', 'Y', 'V', 'B', 'Z', 'X', '*']\n",
      "['A', '4', '-1', '-2', '-2', '0', '-1', '-1', '0', '-2', '-1', '-1', '-1', '-1', '-2', '-1', '1', '0', '-3', '-2', '0', '-2', '-1', '0', '-4']\n",
      "['R', '-1', '5', '0', '-2', '-3', '1', '0', '-2', '0', '-3', '-2', '2', '-1', '-3', '-2', '-1', '-1', '-3', '-2', '-3', '-1', '0', '-1', '-4']\n",
      "['N', '-2', '0', '6', '1', '-3', '0', '0', '0', '1', '-3', '-3', '0', '-2', '-3', '-2', '1', '0', '-4', '-2', '-3', '3', '0', '-1', '-4']\n",
      "['D', '-2', '-2', '1', '6', '-3', '0', '2', '-1', '-1', '-3', '-4', '-1', '-3', '-3', '-1', '0', '-1', '-4', '-3', '-3', '4', '1', '-1', '-4']\n",
      "['C', '0', '-3', '-3', '-3', '9', '-3', '-4', '-3', '-3', '-1', '-1', '-3', '-1', '-2', '-3', '-1', '-1', '-2', '-2', '-1', '-3', '-3', '-2', '-4']\n",
      "['Q', '-1', '1', '0', '0', '-3', '5', '2', '-2', '0', '-3', '-2', '1', '0', '-3', '-1', '0', '-1', '-2', '-1', '-2', '0', '3', '-1', '-4']\n",
      "['E', '-1', '0', '0', '2', '-4', '2', '5', '-2', '0', '-3', '-3', '1', '-2', '-3', '-1', '0', '-1', '-3', '-2', '-2', '1', '4', '-1', '-4']\n",
      "['G', '0', '-2', '0', '-1', '-3', '-2', '-2', '6', '-2', '-4', '-4', '-2', '-3', '-3', '-2', '0', '-2', '-2', '-3', '-3', '-1', '-2', '-1', '-4']\n",
      "['H', '-2', '0', '1', '-1', '-3', '0', '0', '-2', '8', '-3', '-3', '-1', '-2', '-1', '-2', '-1', '-2', '-2', '2', '-3', '0', '0', '-1', '-4']\n",
      "['I', '-1', '-3', '-3', '-3', '-1', '-3', '-3', '-4', '-3', '4', '2', '-3', '1', '0', '-3', '-2', '-1', '-3', '-1', '3', '-3', '-3', '-1', '-4']\n",
      "['L', '-1', '-2', '-3', '-4', '-1', '-2', '-3', '-4', '-3', '2', '4', '-2', '2', '0', '-3', '-2', '-1', '-2', '-1', '1', '-4', '-3', '-1', '-4']\n",
      "['K', '-1', '2', '0', '-1', '-3', '1', '1', '-2', '-1', '-3', '-2', '5', '-1', '-3', '-1', '0', '-1', '-3', '-2', '-2', '0', '1', '-1', '-4']\n",
      "['M', '-1', '-1', '-2', '-3', '-1', '0', '-2', '-3', '-2', '1', '2', '-1', '5', '0', '-2', '-1', '-1', '-1', '-1', '1', '-3', '-1', '-1', '-4']\n",
      "['F', '-2', '-3', '-3', '-3', '-2', '-3', '-3', '-3', '-1', '0', '0', '-3', '0', '6', '-4', '-2', '-2', '1', '3', '-1', '-3', '-3', '-1', '-4']\n",
      "['P', '-1', '-2', '-2', '-1', '-3', '-1', '-1', '-2', '-2', '-3', '-3', '-1', '-2', '-4', '7', '-1', '-1', '-4', '-3', '-2', '-2', '-1', '-2', '-4']\n",
      "['S', '1', '-1', '1', '0', '-1', '0', '0', '0', '-1', '-2', '-2', '0', '-1', '-2', '-1', '4', '1', '-3', '-2', '-2', '0', '0', '0', '-4']\n",
      "['T', '0', '-1', '0', '-1', '-1', '-1', '-1', '-2', '-2', '-1', '-1', '-1', '-1', '-2', '-1', '1', '5', '-2', '-2', '0', '-1', '-1', '0', '-4']\n",
      "['W', '-3', '-3', '-4', '-4', '-2', '-2', '-3', '-2', '-2', '-3', '-2', '-3', '-1', '1', '-4', '-3', '-2', '11', '2', '-3', '-4', '-3', '-2', '-4']\n",
      "['Y', '-2', '-2', '-2', '-3', '-2', '-1', '-2', '-3', '2', '-1', '-1', '-2', '-1', '3', '-3', '-2', '-2', '2', '7', '-1', '-3', '-2', '-1', '-4']\n",
      "['V', '0', '-3', '-3', '-3', '-1', '-2', '-2', '-3', '-3', '3', '1', '-2', '1', '-1', '-2', '-2', '0', '-3', '-1', '4', '-3', '-2', '-1', '-4']\n",
      "['B', '-2', '-1', '3', '4', '-3', '0', '1', '-1', '0', '-3', '-4', '0', '-3', '-3', '-2', '0', '-1', '-4', '-3', '-3', '4', '1', '-1', '-4']\n",
      "['Z', '-1', '0', '0', '1', '-3', '3', '4', '-2', '0', '-3', '-3', '1', '-1', '-3', '-1', '0', '-1', '-3', '-2', '-2', '1', '4', '-1', '-4']\n",
      "['X', '0', '-1', '-1', '-1', '-2', '-1', '-1', '-1', '-1', '-1', '-1', '-1', '-1', '-1', '-2', '0', '0', '-2', '-1', '-1', '-1', '-1', '-1', '-4']\n",
      "['*', '-4', '-4', '-4', '-4', '-4', '-4', '-4', '-4', '-4', '-4', '-4', '-4', '-4', '-4', '-4', '-4', '-4', '-4', '-4', '-4', '-4', '-4', '-4', '1']\n"
     ]
    }
   ],
   "source": [
    "file_path = \"Distance Matrix/BLOSUM62.txt\"\n",
    "# Read the file\n",
    "with open(file_path, 'r') as file:\n",
    "    lines = file.readlines()\n",
    "    # Create the matrix\n",
    "    matrix = [line.split() for line in lines if not line.startswith('#')]\n",
    "\n",
    "    # Display the matrix\n",
    "    for row in matrix:\n",
    "        print(row)"
   ]
  },
  {
   "cell_type": "code",
   "execution_count": 41,
   "metadata": {},
   "outputs": [],
   "source": [
    "def matrix_to_dict(matrix):\n",
    "    distance_dict = {}\n",
    "    # 2.1. fill the dictionary with values from the matrix\n",
    "    for i in range(len(distance_matrix)):\n",
    "        row_letter = matrix[0]\n",
    "        distance_dict[row_letter] = {}\n",
    "        for j in range(len(distance_matrix[i])):\n",
    "            col_letters = matrix[0]\n",
    "            distance_dict[row_letter][col_letters] = distance_matrix[i][j]"
   ]
  },
  {
   "cell_type": "code",
   "execution_count": 43,
   "metadata": {},
   "outputs": [
    {
     "ename": "TypeError",
     "evalue": "unhashable type: 'list'",
     "output_type": "error",
     "traceback": [
      "\u001b[1;31m---------------------------------------------------------------------------\u001b[0m",
      "\u001b[1;31mTypeError\u001b[0m                                 Traceback (most recent call last)",
      "\u001b[1;32mc:\\Users\\DELL\\Desktop\\Introduction to bioinformatics\\Introduction-to-bioinformatics\\Sequence Alignments\\main.ipynb Cell 12\u001b[0m line \u001b[0;36m1\n\u001b[1;32m----> <a href='vscode-notebook-cell:/c%3A/Users/DELL/Desktop/Introduction%20to%20bioinformatics/Introduction-to-bioinformatics/Sequence%20Alignments/main.ipynb#X13sZmlsZQ%3D%3D?line=0'>1</a>\u001b[0m matrix_to_dict(matrix)\n",
      "\u001b[1;32mc:\\Users\\DELL\\Desktop\\Introduction to bioinformatics\\Introduction-to-bioinformatics\\Sequence Alignments\\main.ipynb Cell 12\u001b[0m line \u001b[0;36m6\n\u001b[0;32m      <a href='vscode-notebook-cell:/c%3A/Users/DELL/Desktop/Introduction%20to%20bioinformatics/Introduction-to-bioinformatics/Sequence%20Alignments/main.ipynb#X13sZmlsZQ%3D%3D?line=3'>4</a>\u001b[0m \u001b[39mfor\u001b[39;00m i \u001b[39min\u001b[39;00m \u001b[39mrange\u001b[39m(\u001b[39mlen\u001b[39m(distance_matrix)):\n\u001b[0;32m      <a href='vscode-notebook-cell:/c%3A/Users/DELL/Desktop/Introduction%20to%20bioinformatics/Introduction-to-bioinformatics/Sequence%20Alignments/main.ipynb#X13sZmlsZQ%3D%3D?line=4'>5</a>\u001b[0m     row_letter \u001b[39m=\u001b[39m matrix[\u001b[39m0\u001b[39m]\n\u001b[1;32m----> <a href='vscode-notebook-cell:/c%3A/Users/DELL/Desktop/Introduction%20to%20bioinformatics/Introduction-to-bioinformatics/Sequence%20Alignments/main.ipynb#X13sZmlsZQ%3D%3D?line=5'>6</a>\u001b[0m     distance_dict[row_letter] \u001b[39m=\u001b[39m {}\n\u001b[0;32m      <a href='vscode-notebook-cell:/c%3A/Users/DELL/Desktop/Introduction%20to%20bioinformatics/Introduction-to-bioinformatics/Sequence%20Alignments/main.ipynb#X13sZmlsZQ%3D%3D?line=6'>7</a>\u001b[0m     \u001b[39mfor\u001b[39;00m j \u001b[39min\u001b[39;00m \u001b[39mrange\u001b[39m(\u001b[39mlen\u001b[39m(distance_matrix[i])):\n\u001b[0;32m      <a href='vscode-notebook-cell:/c%3A/Users/DELL/Desktop/Introduction%20to%20bioinformatics/Introduction-to-bioinformatics/Sequence%20Alignments/main.ipynb#X13sZmlsZQ%3D%3D?line=7'>8</a>\u001b[0m         col_letters \u001b[39m=\u001b[39m matrix[\u001b[39m0\u001b[39m]\n",
      "\u001b[1;31mTypeError\u001b[0m: unhashable type: 'list'"
     ]
    }
   ],
   "source": [
    "matrix_to_dict(matrix)"
   ]
  },
  {
   "cell_type": "code",
   "execution_count": null,
   "metadata": {},
   "outputs": [],
   "source": [
    "distance_matrix_BLOSUM62 = []\n",
    "openning_gap = 11\n",
    "extension_gap = 11\n",
    "new_protein_2ABL_sequence, new_B_protein_1OPK_sequence, score = nw_nucleotides.Needleman_and_wunsch_algo(protein_2ABL_sequence, protein_1OPK_sequence, distance_matrix, opening_gap= False)\n",
    "print(\"Score\",score)\n",
    "print(\"A :\", new_protein_2ABL_sequence)\n",
    "print(\"A :\", new_B_protein_1OPK_sequence)"
   ]
  }
 ],
 "metadata": {
  "kernelspec": {
   "display_name": "Python 3",
   "language": "python",
   "name": "python3"
  },
  "language_info": {
   "codemirror_mode": {
    "name": "ipython",
    "version": 3
   },
   "file_extension": ".py",
   "mimetype": "text/x-python",
   "name": "python",
   "nbconvert_exporter": "python",
   "pygments_lexer": "ipython3",
   "version": "3.11.5"
  }
 },
 "nbformat": 4,
 "nbformat_minor": 2
}
